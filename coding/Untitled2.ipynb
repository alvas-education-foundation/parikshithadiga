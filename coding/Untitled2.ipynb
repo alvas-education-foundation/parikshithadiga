{
 "cells": [
  {
   "cell_type": "code",
   "execution_count": 14,
   "metadata": {},
   "outputs": [
    {
     "name": "stdout",
     "output_type": "stream",
     "text": [
      "4\n",
      "1\n",
      "3\n",
      "2\n",
      "5\n",
      "[1, 3, 2, 5]\n",
      "3 2\n",
      "1\n"
     ]
    }
   ],
   "source": [
    "l=[]\n",
    "c=0\n",
    "n=int(input())\n",
    "for i in range(0,n):\n",
    "    l.append(int(input()))\n",
    "print(l)\n",
    "for i in range(0,len(l)):\n",
    "    for j in range(i,len(l)):\n",
    "        if(l[i]>l[j]):\n",
    "            print(l[i],l[j])\n",
    "            c=c+1\n",
    "print(c)\n"
   ]
  },
  {
   "cell_type": "code",
   "execution_count": null,
   "metadata": {},
   "outputs": [],
   "source": []
  },
  {
   "cell_type": "code",
   "execution_count": null,
   "metadata": {},
   "outputs": [],
   "source": []
  }
 ],
 "metadata": {
  "kernelspec": {
   "display_name": "Python 3",
   "language": "python",
   "name": "python3"
  },
  "language_info": {
   "codemirror_mode": {
    "name": "ipython",
    "version": 3
   },
   "file_extension": ".py",
   "mimetype": "text/x-python",
   "name": "python",
   "nbconvert_exporter": "python",
   "pygments_lexer": "ipython3",
   "version": "3.8.2"
  }
 },
 "nbformat": 4,
 "nbformat_minor": 4
}
