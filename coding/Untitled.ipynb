{
 "cells": [
  {
   "cell_type": "code",
   "execution_count": 2,
   "metadata": {},
   "outputs": [
    {
     "name": "stdout",
     "output_type": "stream",
     "text": [
      "12345\n",
      "['1', '2', '3', '4', '5']\n",
      "7\n",
      "[3.5, '1', '3', '4']\n",
      "[3.5, '3', 3.0]\n",
      "[3.5, 2.5]\n",
      "[2.0]\n"
     ]
    }
   ],
   "source": [
    "d=list(input())\n",
    "print(d)\n",
    "k=int(input())\n",
    "while(len(d)>1):\n",
    "    n=len(d)\n",
    "    f=int(d[1])\n",
    "    d.pop(1)\n",
    "    l=int(d[-1])\n",
    "    d.pop(-1)\n",
    "    z=(f+l)%k\n",
    "    i=(n/2)+1\n",
    "    d.insert(z,i)\n",
    "    print(d)\n",
    "    \n",
    "\n"
   ]
  },
  {
   "cell_type": "code",
   "execution_count": null,
   "metadata": {},
   "outputs": [],
   "source": []
  },
  {
   "cell_type": "code",
   "execution_count": null,
   "metadata": {},
   "outputs": [],
   "source": []
  },
  {
   "cell_type": "code",
   "execution_count": null,
   "metadata": {},
   "outputs": [],
   "source": []
  }
 ],
 "metadata": {
  "kernelspec": {
   "display_name": "Python 3",
   "language": "python",
   "name": "python3"
  },
  "language_info": {
   "codemirror_mode": {
    "name": "ipython",
    "version": 3
   },
   "file_extension": ".py",
   "mimetype": "text/x-python",
   "name": "python",
   "nbconvert_exporter": "python",
   "pygments_lexer": "ipython3",
   "version": "3.8.2"
  }
 },
 "nbformat": 4,
 "nbformat_minor": 4
}
