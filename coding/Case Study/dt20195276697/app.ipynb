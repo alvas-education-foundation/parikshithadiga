{
 "cells": [
  {
   "cell_type": "code",
   "execution_count": 1,
   "metadata": {},
   "outputs": [],
   "source": [
    "from flask import Flask,render_template,redirect, url_for,request,flash,session\n",
    "import pandas as pd\n",
    "from csv import writer\n",
    "import pymysql"
   ]
  },
  {
   "cell_type": "code",
   "execution_count": 2,
   "metadata": {},
   "outputs": [],
   "source": [
    "app = Flask(__name__)\n",
    "app.config['SECRET_KEY'] = 'y_so_secret_tcs'\n",
    "db = pymysql.connect(\"localhost\",\"root\",\"\",\"bankSQL\", autocommit=True )\n",
    "conn = db.cursor()\n",
    "global customerid,accid\n",
    "customerid=0\n",
    "accid=0"
   ]
  },
  {
   "cell_type": "code",
   "execution_count": 3,
   "metadata": {},
   "outputs": [],
   "source": [
    "@app.route('/')\n",
    "def index():\n",
    "    return  render_template(\"index.html\")\n",
    "\n"
   ]
  },
  {
   "cell_type": "code",
   "execution_count": 4,
   "metadata": {},
   "outputs": [],
   "source": [
    "@app.route('/login',methods=['POST','GET'])\n",
    "def login():\n",
    "    error = None\n",
    "    if request.method == 'POST':\n",
    "        username=request.form['uname']\n",
    "        psw=request.form['psw']\n",
    "        print(\" \")\n",
    "        \n",
    "        try:\n",
    "            sql=(\"\"\"select SSN,Username,Password from userstore where Username=%s and Password=%s\"\"\",(username,psw))\n",
    "            conn.execute(*sql)\n",
    "            ssn,un,psw,=conn.fetchone()\n",
    "            session['username'],session['psw'],session['SSN']=un,psw,ssn\n",
    "            print(session['SSN'])\n",
    "            if request.form['uname'] != un or request.form['psw'] != psw: \n",
    "                error=\"Invalid Credentials. Please try again.\"\n",
    "                return render_template('index.html',error=error)\n",
    "            else:\n",
    "                return render_template(\"dash.html\",welcome=session.get('username'))\n",
    "        except:\n",
    "            return render_template('index.html',error=error)\n",
    "            print(\" \")\n",
    "            \n",
    "                \n",
    "            \n",
    "    return render_template('index.html',error=error)\n",
    "       "
   ]
  },
  {
   "cell_type": "code",
   "execution_count": 5,
   "metadata": {},
   "outputs": [],
   "source": [
    "                \n",
    "@app.route('/addncus',methods=['POST','GET'])\n",
    "def addncus():\n",
    "     if request.method == 'POST':\n",
    "        ssnid=request.form['ssn']\n",
    "        name=request.form['name']\n",
    "        age=request.form['age']\n",
    "        addl1=request.form['addressl1']\n",
    "        addl2=request.form['addressl2']\n",
    "        state=request.form['state']\n",
    "        city=request.form['city']\n",
    "        addl1=addl1+addl2 \n",
    "        global customerid\n",
    "        customerid+=1\n",
    "        print(customerid)\n",
    "        try:\n",
    "            tuplev=(ssnid,customerid,name,addl1,state,city,age)\n",
    "            sql=(\"\"\"insert into Customer(SSNID,Customerid,Name,Address,State,City,Age) VALUES (%s,%s,%s,%s,%s,%s,%s)\"\"\",tuplev)\n",
    "            conn.execute(*sql)\n",
    "            return render_template(\"dash.html\",welcome=session.get('username'))\n",
    "        except:\n",
    "            error=\"process coudnt b done\"\n",
    "            return render_template('dash.html',welcome=session.get('username'),error=error)\n",
    "            print(\"error\")\n",
    "    \n",
    "     \n",
    "       \n",
    "        \n",
    "            \n",
    "        \n",
    "                    \n",
    "                    \n",
    "        \n",
    "  \n",
    "            \n",
    "\n"
   ]
  },
  {
   "cell_type": "code",
   "execution_count": null,
   "metadata": {},
   "outputs": [],
   "source": [
    "\n",
    "    "
   ]
  },
  {
   "cell_type": "code",
   "execution_count": 6,
   "metadata": {},
   "outputs": [],
   "source": [
    "@app.route('/updatecus',methods=['POST','GET'])\n",
    "def updatecus():\n",
    "     if request.method == 'POST':\n",
    "        try:\n",
    "            ssn=request.form['ssnid']\n",
    "            sql=(\"\"\"select SSNID,Customerid,Name,Address,Age from Customer where SSNID=%s\"\"\",(ssn))\n",
    "            conn.execute(*sql)\n",
    "            cssid,cusid,coname,coaddress,coage=conn.fetchone()\n",
    "            name=request.form['name']\n",
    "            age=request.form['age']\n",
    "            addl1=request.form['address']\n",
    "            tuplev=(name,addl1,age,cssid)\n",
    "            sql=(\"\"\"update Customer set Name=%s,Address=%s,Age=%s where SSNID=%s\"\"\",tuplev)\n",
    "            conn.execute(*sql)\n",
    "            return render_template(\"dash.html\",welcome=session.get('username'),val=True,cssid=cssid,cusid=cusid,coname=coname,coaddress=coaddress,coage=coage)\n",
    "        except:\n",
    "            error=\"process coudnt b done\"\n",
    "            return render_template('dash.html',welcome=session.get('username'),val=False)\n",
    "            print(\"error\")\n",
    "            \n",
    "        "
   ]
  },
  {
   "cell_type": "code",
   "execution_count": 7,
   "metadata": {},
   "outputs": [],
   "source": [
    "@app.route('/searchcus',methods=['POST','GET'])\n",
    "def searchcus():\n",
    "     if request.method == 'POST':\n",
    "        try:\n",
    "            ssn=request.form['ssnid']\n",
    "            cid=request.form['cid']\n",
    "            session['cid'],session['cssn']=cid,ssn\n",
    "                              \n",
    "        except:\n",
    "            error=\"process coudnt b done\"\n",
    "            return render_template('dash.html',welcome=session.get('username'),val=False)\n",
    "            print(\"error\")\n",
    "            \n",
    "            \n",
    "            \n",
    "\n",
    "\n",
    "\n",
    "\n",
    "\n",
    "\n",
    "\n"
   ]
  },
  {
   "cell_type": "code",
   "execution_count": 8,
   "metadata": {},
   "outputs": [],
   "source": [
    "@app.route('/adeletecus',methods=['POST','GET'])\n",
    "def adeletecus():\n",
    "    sql=(\"\"\"select SSNID,Customerid,Name,Address,Age from Customer where SSNID=%s\"\"\",(session.get('cssn')))\n",
    "    conn.execute(*sql)\n",
    "    cssid,cusid,cname,cadd,cage=conn.fetchone()\n",
    "    sql=(\"\"\"delete from Customer where SSNID=%s and Customerid=%s\"\"\",(cssid,cusid))\n",
    "    session.pop('cssn', None)\n",
    "    session.pop('cid', None)\n",
    "    return render_template(\"dash.html\",welcome=session.get('username'),delval=True,cssid=cssid,cusid=cusid,cname=cname,cadd=cadd,cage=cage)\n",
    "\n",
    "\n",
    "\n",
    "\n"
   ]
  },
  {
   "cell_type": "code",
   "execution_count": 9,
   "metadata": {},
   "outputs": [],
   "source": [
    "@app.route('/logout',methods=['POST','GET'])\n",
    "def logout():\n",
    "    if request.method == 'POST':\n",
    "        if 'lout' in request.form:\n",
    "                    session.pop('username', None)\n",
    "                    session.pop('passwrd', None)\n",
    "                    session.pop('SSN', None)\n",
    "                    return render_template(\"index.html\")\n",
    "        \n"
   ]
  },
  {
   "cell_type": "code",
   "execution_count": 10,
   "metadata": {},
   "outputs": [],
   "source": [
    "@app.route('/addaccount',methods=['POST','GET'])\n",
    "def addaccount():\n",
    "    if request.method == 'POST':\n",
    "        cid=request.form['cid']\n",
    "        acctype=request.form['acctype']\n",
    "        amt=request.form['amount']\n",
    "        try:\n",
    "            global accid\n",
    "            accid+=1\n",
    "            tuplev=(accid,cid,amt,acctype)\n",
    "            sql=(\"\"\"insert into Account(Accountid,cusid,Balance,accounttype) VALUES (%s,%s,%s,%s)\"\"\",tuplev)\n",
    "            conn.execute(*sql)\n",
    "            return render_template('dash.html',welcome=session.get('username'))\n",
    "        except:\n",
    "            error=\"process coudnt b done\"\n",
    "            return render_template('dash.html',welcome=session.get('username'),val=False)\n",
    "            print(\"error\")\n",
    "        \n",
    "            \n",
    "            \n",
    "            "
   ]
  },
  {
   "cell_type": "code",
   "execution_count": 11,
   "metadata": {},
   "outputs": [],
   "source": [
    "@app.route('/deleteaccount',methods=['POST','GET'])\n",
    "def deleteaccount():\n",
    "    if request.method == 'POST':\n",
    "        cid=request.form['cid']\n",
    "        acctype=request.form['acctype']\n",
    "        aid=request.form['aid']\n",
    "    \n",
    "        try:\n",
    "            tuplev=(aid,cid)\n",
    "            sql=(\"\"\"delete from Account where Accountid=%s and cusid=%s\"\"\",tuplev)\n",
    "            conn.execute(*sql)\n",
    "            return render_template('dash.html',welcome=session.get('username'))\n",
    "        except:\n",
    "            error=\"process coudnt b done\"\n",
    "            return render_template('dash.html',welcome=session.get('username'),val=False)\n",
    "            print(\"error\")\n",
    "\n",
    "\n",
    "\n",
    "\n",
    "\n",
    "\n"
   ]
  },
  {
   "cell_type": "code",
   "execution_count": 12,
   "metadata": {},
   "outputs": [],
   "source": [
    "\n",
    "@app.route('/searchcustomer',methods=['POST','GET'])\n",
    "def searchcustomer():\n",
    "     if request.method == 'POST':\n",
    "        try:\n",
    "            ssn=request.form['ssnid']\n",
    "            cid=request.form['cid']\n",
    "            session['cid'],session['cssn']=cid,ssn\n",
    "            print(session.get('cid'))\n",
    "            return render_template('dash.html',welcome=session.get('username'),val=False)\n",
    "                              \n",
    "        except:\n",
    "            error=\"process coudnt b done\"\n",
    "            return render_template('dash.html',welcome=session.get('username'),val=False)\n",
    "            print(\"error\")\n",
    "\n",
    "\n",
    "\n"
   ]
  },
  {
   "cell_type": "code",
   "execution_count": null,
   "metadata": {},
   "outputs": [
    {
     "name": "stdout",
     "output_type": "stream",
     "text": [
      " * Serving Flask app \"__main__\" (lazy loading)\n",
      " * Environment: production\n",
      "\u001b[31m   WARNING: This is a development server. Do not use it in a production deployment.\u001b[0m\n",
      "\u001b[2m   Use a production WSGI server instead.\u001b[0m\n",
      " * Debug mode: off\n"
     ]
    },
    {
     "name": "stderr",
     "output_type": "stream",
     "text": [
      " * Running on http://127.0.0.1:5000/ (Press CTRL+C to quit)\n",
      "127.0.0.1 - - [15/Jun/2020 18:46:38] \"\u001b[37mGET / HTTP/1.1\u001b[0m\" 200 -\n",
      "127.0.0.1 - - [15/Jun/2020 18:46:48] \"\u001b[37mPOST /login HTTP/1.1\u001b[0m\" 200 -\n",
      "127.0.0.1 - - [15/Jun/2020 18:46:48] \"\u001b[33mGET /static/img/c1.jpeg HTTP/1.1\u001b[0m\" 404 -\n"
     ]
    },
    {
     "name": "stdout",
     "output_type": "stream",
     "text": [
      " \n",
      "123456789\n"
     ]
    }
   ],
   "source": [
    "if __name__ == '__main__':\n",
    "    app.run()"
   ]
  },
  {
   "cell_type": "code",
   "execution_count": null,
   "metadata": {},
   "outputs": [],
   "source": []
  },
  {
   "cell_type": "code",
   "execution_count": null,
   "metadata": {},
   "outputs": [],
   "source": [
    "\n"
   ]
  },
  {
   "cell_type": "code",
   "execution_count": null,
   "metadata": {},
   "outputs": [],
   "source": []
  }
 ],
 "metadata": {
  "kernelspec": {
   "display_name": "Python 3",
   "language": "python",
   "name": "python3"
  },
  "language_info": {
   "codemirror_mode": {
    "name": "ipython",
    "version": 3
   },
   "file_extension": ".py",
   "mimetype": "text/x-python",
   "name": "python",
   "nbconvert_exporter": "python",
   "pygments_lexer": "ipython3",
   "version": "3.8.2"
  }
 },
 "nbformat": 4,
 "nbformat_minor": 4
}
