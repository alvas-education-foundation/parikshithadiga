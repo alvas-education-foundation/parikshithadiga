{
 "cells": [
  {
   "cell_type": "code",
   "execution_count": 1,
   "metadata": {},
   "outputs": [],
   "source": [
    "from flask import Flask,render_template,redirect, url_for,request,flash,session\n",
    "import pandas as pd\n",
    "from csv import writer\n",
    "import pymysql"
   ]
  },
  {
   "cell_type": "code",
   "execution_count": 2,
   "metadata": {},
   "outputs": [],
   "source": [
    "app = Flask(__name__)\n",
    "app.config['SECRET_KEY'] = 'y_so_secret_tcs'\n",
    "db = pymysql.connect(\"localhost\",\"root\",\"\",\"bankSQL\", autocommit=True )\n",
    "conn = db.cursor()\n",
    "global customerid\n",
    "customerid=0\n"
   ]
  },
  {
   "cell_type": "code",
   "execution_count": 3,
   "metadata": {},
   "outputs": [],
   "source": [
    "@app.route('/')\n",
    "def index():\n",
    "    return  render_template(\"index.html\")\n",
    "\n"
   ]
  },
  {
   "cell_type": "code",
   "execution_count": 4,
   "metadata": {},
   "outputs": [],
   "source": [
    "@app.route('/login',methods=['POST','GET'])\n",
    "def login():\n",
    "    error = None\n",
    "    if request.method == 'POST':\n",
    "        username=request.form['uname']\n",
    "        psw=request.form['psw']\n",
    "        print(\" \")\n",
    "        \n",
    "        try:\n",
    "            sql=(\"\"\"select SSN,Username,Password from userstore where Username=%s and Password=%s\"\"\",(username,psw))\n",
    "            conn.execute(*sql)\n",
    "            ssn,un,psw,=conn.fetchone()\n",
    "            session['username'],session['psw'],session['SSN']=un,psw,ssn\n",
    "            print(session['SSN'])\n",
    "            if request.form['uname'] != un or request.form['psw'] != psw: \n",
    "                error=\"Invalid Credentials. Please try again.\"\n",
    "                return render_template('index.html',error=error)\n",
    "            else:\n",
    "                return render_template(\"dash.html\",welcome=session.get('username'))\n",
    "        except:\n",
    "            return render_template('index.html',error=error)\n",
    "            print(\" \")\n",
    "            \n",
    "                \n",
    "            \n",
    "    return render_template('index.html',error=error)\n",
    "       "
   ]
  },
  {
   "cell_type": "code",
   "execution_count": 5,
   "metadata": {},
   "outputs": [],
   "source": [
    "                \n",
    "@app.route('/addncus',methods=['POST','GET'])\n",
    "def addncus():\n",
    "     if request.method == 'POST':\n",
    "        ssnid=request.form['ssn']\n",
    "        name=request.form['name']\n",
    "        age=request.form['age']\n",
    "        addl1=request.form['addressl1']\n",
    "        addl2=request.form['addressl2']\n",
    "        state=request.form['state']\n",
    "        city=request.form['city']\n",
    "        addl1=addl1+addl2 \n",
    "        global customerid\n",
    "        customerid+=1\n",
    "        print(customerid)\n",
    "        try:\n",
    "            tuplev=(ssnid,customerid,name,addl1,state,city,age)\n",
    "            sql=(\"\"\"insert into Customer(SSNID,Customerid,Name,Address,State,City,Age) VALUES (%s,%s,%s,%s,%s,%s,%s)\"\"\",tuplev)\n",
    "            conn.execute(*sql)\n",
    "            return render_template(\"dash.html\",welcome=session.get('username'))\n",
    "        except:\n",
    "            error=\"process coudnt b done\"\n",
    "            return render_template('dash.html',welcome=session.get('username'),error=error)\n",
    "            print(\"error\")\n",
    "    \n",
    "     \n",
    "       \n",
    "        \n",
    "            \n",
    "        \n",
    "                    \n",
    "                    \n",
    "        \n",
    "  \n",
    "            \n",
    "\n"
   ]
  },
  {
   "cell_type": "code",
   "execution_count": null,
   "metadata": {},
   "outputs": [],
   "source": [
    "@app.route('/findssn',methods=['POST','GET'])\n",
    "def findssn():\n",
    "    "
   ]
  },
  {
   "cell_type": "code",
   "execution_count": null,
   "metadata": {},
   "outputs": [],
   "source": [
    "@app.route('/updatecus',methods=['POST','GET'])\n",
    "def updatecus():\n",
    "     if request.method == 'POST':\n",
    "        try:\n",
    "            ssn=request.form['ssnid']\n",
    "            sql=(\"\"\"select SSNID,Customerid,Name,Address,Age from Customer where SSNID=%s\"\"\",(ssn))\n",
    "            conn.execute(*sql)\n",
    "            cssid,cusid,coname,coaddress,coage=conn.fetchone()\n",
    "            name=request.form['name']\n",
    "            age=request.form['age']\n",
    "            addl1=request.form['address']\n",
    "            tuplev=(name,addl1,age,cssid)\n",
    "            sql=(\"\"\"update Customer set Name=%s,Address=%s,Age=%s where SSNID=%s\"\"\",tuplev)\n",
    "            conn.execute(*sql)\n",
    "            return render_template(\"dash.html\",welcome=session.get('username'),val=True,cssid=cssid,cusid=cusid,coname=coname,coaddress=coaddress,coage=coage)\n",
    "        except:\n",
    "            error=\"process coudnt b done\"\n",
    "            return render_template('dash.html',welcome=session.get('username'),val=False)\n",
    "            print(\"error\")\n",
    "            \n",
    "        "
   ]
  },
  {
   "cell_type": "code",
   "execution_count": 4,
   "metadata": {},
   "outputs": [
    {
     "data": {
      "text/plain": [
       "1"
      ]
     },
     "execution_count": 4,
     "metadata": {},
     "output_type": "execute_result"
    }
   ],
   "source": [
    "name=\"deepak\"\n",
    "addl1=\"no17 gayatri layout\"\n",
    "age=\"46\"\n",
    "ssid=\"123456789\"\n",
    "\n",
    "sql=(\"\"\"update Customer set Name=%s,Address=%s,Age=%s where SSNID=%s\"\"\",tuplev)\n",
    "conn.execute(*sql)\n",
    "\n",
    "\n",
    "\n",
    "\n",
    "\n",
    "\n",
    "\n"
   ]
  },
  {
   "cell_type": "code",
   "execution_count": 5,
   "metadata": {},
   "outputs": [
    {
     "name": "stdout",
     "output_type": "stream",
     "text": [
      "deepak\n"
     ]
    }
   ],
   "source": [
    "ssn=\"123456789\"\n",
    "sql=(\"\"\"select SSNID,Customerid,Name,Address,Age from Customer where SSNID=%s\"\"\",(ssn))\n",
    "conn.execute(*sql)\n",
    "cssid,cusid,coname,coaddress,coage=conn.fetchone()\n",
    "print(coname)"
   ]
  },
  {
   "cell_type": "code",
   "execution_count": null,
   "metadata": {},
   "outputs": [
    {
     "name": "stdout",
     "output_type": "stream",
     "text": [
      " * Serving Flask app \"__main__\" (lazy loading)\n",
      " * Environment: production\n",
      "\u001b[31m   WARNING: This is a development server. Do not use it in a production deployment.\u001b[0m\n",
      "\u001b[2m   Use a production WSGI server instead.\u001b[0m\n",
      " * Debug mode: off\n"
     ]
    },
    {
     "name": "stderr",
     "output_type": "stream",
     "text": [
      " * Running on http://127.0.0.1:5000/ (Press CTRL+C to quit)\n",
      "127.0.0.1 - - [15/Jun/2020 14:22:44] \"\u001b[37mGET / HTTP/1.1\u001b[0m\" 200 -\n",
      "127.0.0.1 - - [15/Jun/2020 14:22:54] \"\u001b[37mPOST /login HTTP/1.1\u001b[0m\" 200 -\n"
     ]
    },
    {
     "name": "stdout",
     "output_type": "stream",
     "text": [
      " \n"
     ]
    },
    {
     "name": "stderr",
     "output_type": "stream",
     "text": [
      "127.0.0.1 - - [15/Jun/2020 14:23:09] \"\u001b[37mPOST /login HTTP/1.1\u001b[0m\" 200 -\n",
      "127.0.0.1 - - [15/Jun/2020 14:23:09] \"\u001b[33mGET /static/img/c1.jpeg HTTP/1.1\u001b[0m\" 404 -\n"
     ]
    },
    {
     "name": "stdout",
     "output_type": "stream",
     "text": [
      " \n",
      "123456789\n"
     ]
    },
    {
     "name": "stderr",
     "output_type": "stream",
     "text": [
      "127.0.0.1 - - [15/Jun/2020 14:23:34] \"\u001b[37mPOST /addncus HTTP/1.1\u001b[0m\" 200 -\n",
      "127.0.0.1 - - [15/Jun/2020 14:23:34] \"\u001b[33mGET /static/img/c1.jpeg HTTP/1.1\u001b[0m\" 404 -\n"
     ]
    },
    {
     "name": "stdout",
     "output_type": "stream",
     "text": [
      "1\n"
     ]
    },
    {
     "name": "stderr",
     "output_type": "stream",
     "text": [
      "127.0.0.1 - - [15/Jun/2020 14:24:02] \"\u001b[37mPOST /addncus HTTP/1.1\u001b[0m\" 200 -\n",
      "127.0.0.1 - - [15/Jun/2020 14:24:02] \"\u001b[33mGET /static/img/c1.jpeg HTTP/1.1\u001b[0m\" 404 -\n"
     ]
    },
    {
     "name": "stdout",
     "output_type": "stream",
     "text": [
      "2\n"
     ]
    },
    {
     "name": "stderr",
     "output_type": "stream",
     "text": [
      "127.0.0.1 - - [15/Jun/2020 14:28:14] \"\u001b[37mPOST /addncus HTTP/1.1\u001b[0m\" 200 -\n",
      "127.0.0.1 - - [15/Jun/2020 14:28:14] \"\u001b[33mGET /static/img/c1.jpeg HTTP/1.1\u001b[0m\" 404 -\n"
     ]
    },
    {
     "name": "stdout",
     "output_type": "stream",
     "text": [
      "3\n"
     ]
    }
   ],
   "source": [
    "if __name__ == '__main__':\n",
    "    app.run()"
   ]
  },
  {
   "cell_type": "code",
   "execution_count": null,
   "metadata": {},
   "outputs": [],
   "source": []
  },
  {
   "cell_type": "code",
   "execution_count": null,
   "metadata": {},
   "outputs": [],
   "source": [
    "\n"
   ]
  },
  {
   "cell_type": "code",
   "execution_count": null,
   "metadata": {},
   "outputs": [],
   "source": []
  }
 ],
 "metadata": {
  "kernelspec": {
   "display_name": "Python 3",
   "language": "python",
   "name": "python3"
  },
  "language_info": {
   "codemirror_mode": {
    "name": "ipython",
    "version": 3
   },
   "file_extension": ".py",
   "mimetype": "text/x-python",
   "name": "python",
   "nbconvert_exporter": "python",
   "pygments_lexer": "ipython3",
   "version": "3.8.2"
  }
 },
 "nbformat": 4,
 "nbformat_minor": 4
}
