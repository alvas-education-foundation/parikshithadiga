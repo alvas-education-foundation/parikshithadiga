{
 "cells": [
  {
   "cell_type": "code",
   "execution_count": 1,
   "metadata": {},
   "outputs": [],
   "source": [
    "#import pyautogui\n",
    "import os\n",
    "from gtts import gTTS\n",
    "from playsound import playsound\n",
    "import scipy.io.wavfile \n",
    "import sounddevice as sd\n",
    "import speech_recognition as sr\n",
    "import time\n",
    "import pywhatkit\n",
    "from datetime import datetime\n",
    "r = sr.Recognizer()\n",
    "audio='nams.mp3'\n",
    "lan='en'"
   ]
  },
  {
   "cell_type": "code",
   "execution_count": 2,
   "metadata": {},
   "outputs": [],
   "source": [
    "def recordauido():\n",
    "    text=\" \"\n",
    "    with sr.Microphone() as so:\n",
    "        audio_data = r.record(so, duration=4)\n",
    "        text = r.recognize_google(audio_data)\n",
    "        print(text)\n",
    "        \n",
    "    return text.lower()\n"
   ]
  },
  {
   "cell_type": "code",
   "execution_count": 3,
   "metadata": {},
   "outputs": [],
   "source": [
    "def starting():\n",
    "    st=\"parikshith\"\n",
    "    now = datetime.now()\n",
    "    current_time = now.strftime(\"%HH\")\n",
    "    if(current_time>\"0\" and current_time<=\"12\"):\n",
    "        t=\"good morning\"\n",
    "    elif(current_time>\"12\" and current_time<=\"16\"):\n",
    "        t=\"good afternoon\"\n",
    "    elif(current_time>\"16\" and current_time<=\"21\"):\n",
    "        t=\"good evening\"\n",
    "    elif(current_time>\"21\" and current_time<\"24\"):\n",
    "        t=\"good night\"\n",
    "    else:\n",
    "        t=\"die homie\"\n",
    "    print(t)\n",
    "    audiodp(t+st)\n",
    "def audiodp(t):\n",
    "    sp=gTTS(text=t,lang=lan,slow=False)\n",
    "    sp.save(audio)\n",
    "    playsound(audio)"
   ]
  },
  {
   "cell_type": "code",
   "execution_count": 5,
   "metadata": {},
   "outputs": [
    {
     "name": "stdout",
     "output_type": "stream",
     "text": [
      "good afternoon\n",
      "good afternoon\n",
      "as\n"
     ]
    }
   ],
   "source": [
    "starting()\n",
    "text=recordauido()\n",
    "starttext=[\"good morning\",\"good afternoon\",\"good evening\",\"good night\",\"die b***\",\"die which\",\"b***\",\"die pitch\"]\n",
    "for te in starttext:\n",
    "    if(text==te):\n",
    "        t=\"good to hear,how can i help you\"\n",
    "        audiodp(t)\n",
    "        break\n",
    "    \n",
    "\n",
    "\n",
    "text=recordauido()\n",
    "\n",
    "\n",
    "if(text==\"i am fine\" or text==\"fine\" or text==\"good\"):\n",
    "    t=\"good to hear,how can i help you\"\n",
    "    audiodp(t)\n",
    "    text=recordauido()\n",
    "\n",
    "elif(text==\"can you open youtube\" or text==\"youtube\" or text==\"utube\" or text==\"can you play youtube\"):\n",
    "    song=\"https://www.youtube.com/watch?v=1gukvtH_a3I&list=RD1gukvtH_a3I&start_radio=1\"\n",
    "    t=\"playing youtube\"\n",
    "    audiodp(t)\n",
    "    pywhatkit.playonyt(song)\n",
    "elif(text==\"what is the time bitch\" or text==\"can you tell me the current time\"or text==\"b***\" or text==\"as\"):\n",
    "    t=\"sleep,kid its sunday sorry to trouble\"\n",
    "    audiodp(t)\n",
    "    "
   ]
  },
  {
   "cell_type": "code",
   "execution_count": null,
   "metadata": {},
   "outputs": [],
   "source": []
  },
  {
   "cell_type": "code",
   "execution_count": null,
   "metadata": {},
   "outputs": [],
   "source": []
  },
  {
   "cell_type": "code",
   "execution_count": null,
   "metadata": {},
   "outputs": [],
   "source": []
  }
 ],
 "metadata": {
  "kernelspec": {
   "display_name": "Python 3",
   "language": "python",
   "name": "python3"
  },
  "language_info": {
   "codemirror_mode": {
    "name": "ipython",
    "version": 3
   },
   "file_extension": ".py",
   "mimetype": "text/x-python",
   "name": "python",
   "nbconvert_exporter": "python",
   "pygments_lexer": "ipython3",
   "version": "3.8.2"
  }
 },
 "nbformat": 4,
 "nbformat_minor": 4
}
