{
 "cells": [
  {
   "cell_type": "code",
   "execution_count": 9,
   "metadata": {},
   "outputs": [
    {
     "name": "stdout",
     "output_type": "stream",
     "text": [
      "music/Habits.mp3\n"
     ]
    }
   ],
   "source": [
    "import pygame\n",
    "from pygame import mixer\n",
    "import sys\n",
    "pygame.init()\n",
    "mixer.init()\n",
    "song=\"music/Habits.mp3\"\n",
    "print(song)\n",
    "screen=pygame.display.set_mode((600,400))\n",
    "pygame.display.set_caption(\"my world\")\n",
    "mixer.music.load(song)\n",
    "mixer.music.play()\n",
    "running=True\n",
    "while running:\n",
    "    for event in pygame.event.get():\n",
    "        if event.type==pygame.QUIT:\n",
    "            pygame.quit()\n",
    "            \n",
    "        if  event.type == pygame.KEYDOWN:\n",
    "            if pygame.K_p:\n",
    "                mixer.music.pause()\n",
    "            if pygame.K_r:\n",
    "                mixer.music.unpause()\n",
    "            if pygame.K_q:\n",
    "                running=False\n",
    "           \n",
    "\n",
    "        \n",
    "pygame.quit()\n",
    "\n",
    "\n",
    "\n"
   ]
  },
  {
   "cell_type": "code",
   "execution_count": null,
   "metadata": {},
   "outputs": [],
   "source": []
  },
  {
   "cell_type": "code",
   "execution_count": null,
   "metadata": {},
   "outputs": [],
   "source": []
  },
  {
   "cell_type": "code",
   "execution_count": null,
   "metadata": {},
   "outputs": [],
   "source": []
  }
 ],
 "metadata": {
  "kernelspec": {
   "display_name": "Python 3",
   "language": "python",
   "name": "python3"
  },
  "language_info": {
   "codemirror_mode": {
    "name": "ipython",
    "version": 3
   },
   "file_extension": ".py",
   "mimetype": "text/x-python",
   "name": "python",
   "nbconvert_exporter": "python",
   "pygments_lexer": "ipython3",
   "version": "3.8.2"
  }
 },
 "nbformat": 4,
 "nbformat_minor": 4
}
