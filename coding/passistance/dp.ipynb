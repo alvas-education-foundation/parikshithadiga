{
 "cells": [
  {
   "cell_type": "code",
   "execution_count": 1,
   "metadata": {},
   "outputs": [
    {
     "name": "stdout",
     "output_type": "stream",
     "text": [
      "pygame 1.9.6\n",
      "Hello from the pygame community. https://www.pygame.org/contribute.html\n"
     ]
    }
   ],
   "source": [
    "#import pyautogui\n",
    "import os\n",
    "from gtts import gTTS\n",
    "from playsound import playsound\n",
    "import scipy.io.wavfile \n",
    "import sounddevice as sd\n",
    "import vlc\n",
    "import webbrowser\n",
    "import speech_recognition as sr\n",
    "import time\n",
    "import pywhatkit\n",
    "from datetime import datetime\n",
    "import pygame\n",
    "from pygame import mixer\n",
    "r = sr.Recognizer()\n",
    "audio='nams.mp3'\n",
    "lan='en'"
   ]
  },
  {
   "cell_type": "code",
   "execution_count": 2,
   "metadata": {},
   "outputs": [],
   "source": [
    "def recordauido():\n",
    "    text=\" \"\n",
    "    with sr.Microphone() as so:\n",
    "        r.adjust_for_ambient_noise(so,duration=0.5)\n",
    "        audio_data = r.listen(so)\n",
    "        text = r.recognize_google(audio_data)\n",
    "        print(text)\n",
    "    return text.lower()\n"
   ]
  },
  {
   "cell_type": "code",
   "execution_count": 3,
   "metadata": {},
   "outputs": [],
   "source": [
    "def starting():\n",
    "    st=\"parikshith\"\n",
    "    now = datetime.now()\n",
    "    current_time = now.strftime(\"%H\")\n",
    "    print(current_time)\n",
    "    current_time=int(current_time)\n",
    "    if(current_time>0 and current_time<=12):\n",
    "        t=\"good morning\"\n",
    "    elif(current_time>12 and current_time<=16):\n",
    "        t=\"good afternoon\"\n",
    "    elif(current_time>16 and current_time<=21):\n",
    "        t=\"good evening\"\n",
    "    elif(current_time>21 and current_time<24):\n",
    "        t=\"good night\"\n",
    "    else:\n",
    "        t=\"die homie\"\n",
    "    print(t)\n",
    "    audiodp(t+st)\n",
    "def audiodp(t):\n",
    "    sp=gTTS(text=t,lang=lan,slow=False)\n",
    "    sp.save(audio)\n",
    "    playsound(audio)"
   ]
  },
  {
   "cell_type": "code",
   "execution_count": 4,
   "metadata": {},
   "outputs": [],
   "source": [
    "class musicplayer:\n",
    "    def player(self,song):\n",
    "        pygame.init()\n",
    "        mixer.init()\n",
    "        song=\"music/Habits(Stay High).mp3\"\n",
    "        screen=pygame.display.set_mode((600,400))\n",
    "        mixer.music.load(\"music/Habits.mp3\")\n",
    "        mixer.music.play()\n",
    "        running=True     \n",
    "    def stopplayer(self):\n",
    "        for event in pygame.event.get():\n",
    "            if event.type==pygame.QUIT:\n",
    "                pygame.quit()\n",
    "            \n",
    "            if  event.type == pygame.KEYDOWN:\n",
    "                if pygame.K_p:\n",
    "                    mixer.music.pause()\n",
    "                if pygame.K_r:\n",
    "                    mixer.music.unpause()\n",
    "            \n",
    "            \n",
    "\n",
    "\n",
    "\n"
   ]
  },
  {
   "cell_type": "code",
   "execution_count": 5,
   "metadata": {},
   "outputs": [
    {
     "name": "stdout",
     "output_type": "stream",
     "text": [
      "00\n",
      "die homie\n",
      "good morning\n",
      "play me the song\n",
      "hy\n"
     ]
    }
   ],
   "source": [
    "starting()\n",
    "text=recordauido()\n",
    "starttext=[\"good morning\",\"good afternoon\",\"good evening\",\"good night\",\"die b***\",\"die which\",\"b***\",\"die pitch\"]\n",
    "for te in starttext:\n",
    "    if(text==te):\n",
    "        t=\"good to hear,how can i help you\"\n",
    "        audiodp(t)\n",
    "        break\n",
    "        \n",
    "text=recordauido()\n",
    "\n",
    "if(text==\"send whatsapp message\" or text==\"message\"):\n",
    "    t=\"can i know to whom\"\n",
    "    phonebook={ \"apoorva\":\"+919482009607\",\n",
    "    \"jyoti\":\"+917338433549\",\n",
    "    \"dikshit\":\"+919113631765\" }\n",
    "    \n",
    "    audiodp(t)\n",
    "    name=recordauido()\n",
    "    number= phonebook.get(name)\n",
    "    t=\"tell me the message\"\n",
    "    audiodp(t)\n",
    "    msg=recordauido()\n",
    "    now = datetime.now()\n",
    "    msgmin = now.strftime(\"%M\")\n",
    "    msgmin=int(msgmin)+2\n",
    "    msgHR = now.strftime(\"%H\")\n",
    "    pywhatkit.sendwhatmsg(number,msg,int(msgHR),msgmin)\n",
    "\n",
    "elif(text==\"can you open youtube\" or text==\"youtube\" or text==\"utube\" or text==\"can you play youtube\"):\n",
    "    song=\"https://www.youtube.com/watch?v=1gukvtH_a3I&list=RD1gukvtH_a3I&start_radio=1\"\n",
    "    t=\"playing youtube\"\n",
    "    audiodp(t)\n",
    "    pywhatkit.playonyt(song)\n",
    "elif(text==\"why r u alive\" or text==\"can you tell me the current time\"or text==\"b***\" or text==\"as\"):\n",
    "    t=\"die homie\"\n",
    "    audiodp(t)\n",
    "elif(text==\"play me song\" or text==\"play me the song\"):\n",
    "    t=\"enjoy homie\"\n",
    "    audiodp(t)\n",
    "    song='music/Habits.mp3'\n",
    "    mp=musicplayer()\n",
    "    mp.player(song)\n",
    "    if mp:\n",
    "        print(\"hy\")\n",
    "elif(text==\"tell me a joke which\"):\n",
    "    t=\"your  friend karthik is b s  b a p g buddy\"\n",
    "    audiodp(t)\n",
    "    \n",
    "    \n",
    "    \n",
    "    \n",
    "    "
   ]
  },
  {
   "cell_type": "code",
   "execution_count": null,
   "metadata": {},
   "outputs": [],
   "source": [
    "\n"
   ]
  },
  {
   "cell_type": "code",
   "execution_count": null,
   "metadata": {},
   "outputs": [],
   "source": []
  },
  {
   "cell_type": "code",
   "execution_count": null,
   "metadata": {},
   "outputs": [],
   "source": []
  },
  {
   "cell_type": "code",
   "execution_count": null,
   "metadata": {},
   "outputs": [],
   "source": []
  },
  {
   "cell_type": "code",
   "execution_count": null,
   "metadata": {},
   "outputs": [],
   "source": []
  }
 ],
 "metadata": {
  "kernelspec": {
   "display_name": "Python 3",
   "language": "python",
   "name": "python3"
  },
  "language_info": {
   "codemirror_mode": {
    "name": "ipython",
    "version": 3
   },
   "file_extension": ".py",
   "mimetype": "text/x-python",
   "name": "python",
   "nbconvert_exporter": "python",
   "pygments_lexer": "ipython3",
   "version": "3.8.2"
  }
 },
 "nbformat": 4,
 "nbformat_minor": 4
}
