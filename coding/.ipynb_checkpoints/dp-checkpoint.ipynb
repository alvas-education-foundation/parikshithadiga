{
 "cells": [
  {
   "cell_type": "code",
   "execution_count": 1,
   "metadata": {},
   "outputs": [],
   "source": [
    "#import pyautogui\n",
    "import os\n",
    "from gtts import gTTS\n",
    "from playsound import playsound\n",
    "import scipy.io.wavfile \n",
    "import sounddevice as sd\n",
    "import speech_recognition as sr\n",
    "import time\n",
    "import pywhatkit\n",
    "r = sr.Recognizer()\n",
    "audio='nams.mp3'\n",
    "lan='en'"
   ]
  },
  {
   "cell_type": "code",
   "execution_count": 2,
   "metadata": {},
   "outputs": [],
   "source": [
    "def recordauido():\n",
    "    text=\" \"\n",
    "    with sr.Microphone() as so:\n",
    "        audio_data = r.record(so, duration=4)\n",
    "        text = r.recognize_google(audio_data)\n",
    "        print(text)\n",
    "    return text\n"
   ]
  },
  {
   "cell_type": "code",
   "execution_count": 3,
   "metadata": {},
   "outputs": [],
   "source": [
    "def starting():\n",
    "    st=\"hello parikshith\"\n",
    "    sp=gTTS(text=st,lang=lan,slow=False)\n",
    "    sp.save(audio)\n",
    "    playsound(audio)\n",
    "def audiodp(t):\n",
    "    sp=gTTS(text=t,lang=lan,slow=False)\n",
    "    sp.save(audio)\n",
    "    playsound(audio)"
   ]
  },
  {
   "cell_type": "code",
   "execution_count": 4,
   "metadata": {},
   "outputs": [
    {
     "name": "stdout",
     "output_type": "stream",
     "text": [
      "hello\n",
      "good\n",
      "YouTube\n",
      "love\n"
     ]
    }
   ],
   "source": [
    "starting()\n",
    "text=recordauido()\n",
    "text.lower()\n",
    "if(text==\"hello lovely\" or text==\"hello\" or text==\"hey lappy\"):\n",
    "    t=\"how are you\"\n",
    "    audiodp(t)\n",
    "\n",
    "else:\n",
    "    t=text\n",
    "    audiodp(t)\n",
    "   \n",
    "\n",
    "text=recordauido()\n",
    "text.lower()\n",
    "\n",
    "if(text==\"i am fine\" or text==\"fine\" or text==\"good\"):\n",
    "    t=\"good to hear,how can i help you\"\n",
    "    audiodp(t)\n",
    "else:\n",
    "    t=text\n",
    "    audiodp(t)\n",
    "text=recordauido()\n",
    "\n",
    "text.lower()\n",
    "\n",
    "if(text==\"can you open youtube\" or text==\"YouTube\" or text==\"utube\" or text==\"can you play youtube\"):\n",
    "    song=\"https://www.youtube.com/watch?v=1gukvtH_a3I&list=RD1gukvtH_a3I&start_radio=1\"\n",
    "    t=\" i'm playing your favorite song\"\n",
    "    print(\"love\")\n",
    "    audiodp(t)\n",
    "    pywhatkit.playonyt(song)\n",
    "    "
   ]
  },
  {
   "cell_type": "code",
   "execution_count": null,
   "metadata": {},
   "outputs": [],
   "source": []
  },
  {
   "cell_type": "code",
   "execution_count": null,
   "metadata": {},
   "outputs": [],
   "source": []
  }
 ],
 "metadata": {
  "kernelspec": {
   "display_name": "Python 3",
   "language": "python",
   "name": "python3"
  },
  "language_info": {
   "codemirror_mode": {
    "name": "ipython",
    "version": 3
   },
   "file_extension": ".py",
   "mimetype": "text/x-python",
   "name": "python",
   "nbconvert_exporter": "python",
   "pygments_lexer": "ipython3",
   "version": "3.8.2"
  }
 },
 "nbformat": 4,
 "nbformat_minor": 4
}
