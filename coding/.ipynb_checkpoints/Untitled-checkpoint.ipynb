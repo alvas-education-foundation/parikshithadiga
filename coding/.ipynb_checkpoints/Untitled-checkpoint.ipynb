{
 "cells": [
  {
   "cell_type": "code",
   "execution_count": 27,
   "metadata": {},
   "outputs": [],
   "source": [
    "import webbrowser\n",
    "import time\n",
    "import pyautogui as gui\n",
    "\n",
    "\n",
    "url=\"https://mail.google.com/mail/u/0/#inbox\"\n",
    "webbrowser.open(url)\n",
    "time.sleep(15)\n",
    "position =116,238\n",
    "gui.click(position)\n",
    "time.sleep(3)\n",
    "gui.write(\"aparik20j98@gmail.com\")\n",
    "time.sleep(1)\n",
    "gui.press('\\t')\n",
    "time.sleep(1)\n",
    "gui.write(\"ali ali\")\n",
    "gui.press('\\t')\n",
    "gui.write(\"https://www.youtube.com/watch?v=8HDTS80dlr4&list=RDkN6Y-KGMsh8&index=7\")\n",
    "position =830,750\n",
    "gui.click(position)\n",
    "time.sleep(6)\n",
    "position =873,317\n",
    "gui.click(position)\n",
    "\n"
   ]
  },
  {
   "cell_type": "code",
   "execution_count": null,
   "metadata": {},
   "outputs": [],
   "source": []
  },
  {
   "cell_type": "code",
   "execution_count": null,
   "metadata": {},
   "outputs": [],
   "source": []
  },
  {
   "cell_type": "code",
   "execution_count": null,
   "metadata": {},
   "outputs": [],
   "source": []
  },
  {
   "cell_type": "code",
   "execution_count": null,
   "metadata": {},
   "outputs": [],
   "source": []
  }
 ],
 "metadata": {
  "kernelspec": {
   "display_name": "Python 3",
   "language": "python",
   "name": "python3"
  },
  "language_info": {
   "codemirror_mode": {
    "name": "ipython",
    "version": 3
   },
   "file_extension": ".py",
   "mimetype": "text/x-python",
   "name": "python",
   "nbconvert_exporter": "python",
   "pygments_lexer": "ipython3",
   "version": "3.8.2"
  }
 },
 "nbformat": 4,
 "nbformat_minor": 4
}
